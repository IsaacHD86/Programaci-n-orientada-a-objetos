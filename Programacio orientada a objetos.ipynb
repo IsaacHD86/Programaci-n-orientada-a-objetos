{
 "cells": [
  {
   "cell_type": "markdown",
   "id": "3656ca54",
   "metadata": {},
   "source": [
    "### 1.Escriba una clase en Python denominada “Conversion” que permita la conversión de un número romano a un número entero a través de un método llamado “romano_entero”.\n",
    "\n"
   ]
  },
  {
   "cell_type": "code",
   "execution_count": 16,
   "id": "de9a7831",
   "metadata": {},
   "outputs": [
    {
     "name": "stdout",
     "output_type": "stream",
     "text": [
      "3986\n"
     ]
    }
   ],
   "source": [
    "class Conversion:\n",
    "    def __init__(self):\n",
    "        self.romanos = {'I': 1, 'V': 5, 'X': 10, 'L': 50, 'C': 100, 'D': 500, 'M': 1000}\n",
    "\n",
    "    def romano_entero(self, numero_romano):\n",
    "        self.numero_romano = numero_romano\n",
    "        num_entero = 0\n",
    "        numero1 = 0\n",
    "\n",
    "        for letra in numero_romano[::-1]:\n",
    "            numero = self.romanos[letra]\n",
    "\n",
    "            if numero < numero1:\n",
    "                num_entero -= numero\n",
    "            else:\n",
    "                num_entero += numero\n",
    "\n",
    "            numero1 = numero\n",
    "\n",
    "        return num_entero\n",
    "\n",
    "numeros = Conversion()\n",
    "print(numeros.romano_entero('MMMCMLXXXVI'))"
   ]
  },
  {
   "cell_type": "code",
   "execution_count": null,
   "id": "6c2c75be",
   "metadata": {},
   "outputs": [],
   "source": []
  }
 ],
 "metadata": {
  "kernelspec": {
   "display_name": "Python 3 (ipykernel)",
   "language": "python",
   "name": "python3"
  },
  "language_info": {
   "codemirror_mode": {
    "name": "ipython",
    "version": 3
   },
   "file_extension": ".py",
   "mimetype": "text/x-python",
   "name": "python",
   "nbconvert_exporter": "python",
   "pygments_lexer": "ipython3",
   "version": "3.11.5"
  }
 },
 "nbformat": 4,
 "nbformat_minor": 5
}
